{
 "cells": [
  {
   "cell_type": "markdown",
   "metadata": {},
   "source": [
    "# Database Connection Test\n",
    "This program attempts to guess the correct database connection string based on your computer's platform.\n",
    "It then tests whether a successful connection can be made to the chosen database, and if a simple select statement can return data from the chosen table."
   ]
  },
  {
   "cell_type": "markdown",
   "metadata": {},
   "source": [
    "## Input"
   ]
  },
  {
   "cell_type": "code",
   "execution_count": null,
   "metadata": {},
   "outputs": [],
   "source": [
    "db = 'MuesliAG'\n",
    "table = 'Materials'"
   ]
  },
  {
   "cell_type": "markdown",
   "metadata": {},
   "source": [
    "### Libraries"
   ]
  },
  {
   "cell_type": "code",
   "execution_count": null,
   "metadata": {},
   "outputs": [],
   "source": [
    "import platform\n",
    "import warnings\n",
    "import pyodbc\n",
    "import sqlalchemy as sal\n",
    "import pandas as pd"
   ]
  },
  {
   "cell_type": "markdown",
   "metadata": {},
   "source": [
    "### Define Functions"
   ]
  },
  {
   "cell_type": "code",
   "execution_count": null,
   "metadata": {},
   "outputs": [],
   "source": [
    "def db_connect_str_from_env (_db, _driver = None):\n",
    "    template = 'mssql+pyodbc:///?odbc_connect=DRIVER={};SERVER=dlyle.database.windows.net;DATABASE={};UID=student;PWD=Viz(Data);'\n",
    "\n",
    "    if not _driver is None:\n",
    "        return template.format(_driver, _db)\n",
    "\n",
    "    print('Guessing driver based on', platform.system(), platform.release(), platform.machine(), platform.platform())\n",
    "\n",
    "    if platform.system() == 'Darwin': #MacOS\n",
    "        if platform.machine() == 'arm64': #M1 chip\n",
    "            driver = '/opt/homebrew/lib/libmsodbcsql.18.dylib'\n",
    "        else:\n",
    "            driver = '/Library/simba/sqlserverodbc/lib/libsqlserverodbc_sbu.dylib'\n",
    "    else: #Windows and anything else\n",
    "        driver = '{SQL Server}'\n",
    "    \n",
    "    return template.format(driver, _db)"
   ]
  },
  {
   "cell_type": "code",
   "execution_count": null,
   "metadata": {},
   "outputs": [],
   "source": [
    "def data_test (_c_str, _tbl):\n",
    "    try:\n",
    "        cxn = sal.create_engine(_c_str).connect()\n",
    "        print(_c_str)\n",
    "        print('Success!')\n",
    "        data = pd.read_sql(f\"select TOP 5 * from {_tbl}\", cxn)\n",
    "        cxn.close()\n",
    "        return data\n",
    "    except Exception as err:\n",
    "        warnings.warn(str(err))\n",
    "        return None"
   ]
  },
  {
   "cell_type": "markdown",
   "metadata": {},
   "source": [
    "## Connection Tests\n",
    "#### First, let's try to guess connection string based on environment\n",
    "\n",
    "If this next block returns data, you can stop here. Use the connection string shown on the line above the data."
   ]
  },
  {
   "cell_type": "code",
   "execution_count": null,
   "metadata": {},
   "outputs": [],
   "source": [
    "data_test(db_connect_str_from_env(db),table)"
   ]
  },
  {
   "cell_type": "markdown",
   "metadata": {},
   "source": [
    "#### Otherwise, try out some other connection strings"
   ]
  },
  {
   "cell_type": "markdown",
   "metadata": {},
   "source": [
    "##### Generic, non version specific SQL driver"
   ]
  },
  {
   "cell_type": "code",
   "execution_count": null,
   "metadata": {},
   "outputs": [],
   "source": [
    "data_test(db_connect_str_from_env(db, '{SQL Server}'),table)"
   ]
  },
  {
   "cell_type": "markdown",
   "metadata": {},
   "source": [
    "##### Version specific SQL driver\n",
    "You can also try versions 15, 13 or 11 if 17 is not available (for some reason Microsoft likes odd version numbers...)"
   ]
  },
  {
   "cell_type": "code",
   "execution_count": null,
   "metadata": {},
   "outputs": [],
   "source": [
    "data_test(db_connect_str_from_env(db, '{ODBC Driver 17 for SQL Server}'),table)"
   ]
  },
  {
   "cell_type": "markdown",
   "metadata": {},
   "source": [
    "##### For non Windows, refer to the driver's library file directly\n",
    "Simba driver provided by Tableau"
   ]
  },
  {
   "cell_type": "code",
   "execution_count": null,
   "metadata": {},
   "outputs": [],
   "source": [
    "data_test(db_connect_str_from_env(db, '/Library/simba/sqlserverodbc/lib/libsqlserverodbc_sbu.dylib'),table)"
   ]
  },
  {
   "cell_type": "markdown",
   "metadata": {},
   "source": [
    "Microsoft drivers - can also try older versions (17, 15, 13, 11 etc.)"
   ]
  },
  {
   "cell_type": "code",
   "execution_count": null,
   "metadata": {},
   "outputs": [],
   "source": [
    "data_test(db_connect_str_from_env(db, '/opt/homebrew/lib/libmsodbcsql.18.dylib'),table)"
   ]
  },
  {
   "cell_type": "code",
   "execution_count": null,
   "metadata": {},
   "outputs": [],
   "source": [
    "data_test(db_connect_str_from_env(db, '/usr/local/lib/libmsodbcsql.18.dylib'),table)"
   ]
  },
  {
   "cell_type": "code",
   "execution_count": null,
   "metadata": {},
   "outputs": [],
   "source": []
  }
 ],
 "metadata": {
  "kernelspec": {
   "display_name": "Python 3 (ipykernel)",
   "language": "python",
   "name": "python3"
  },
  "language_info": {
   "codemirror_mode": {
    "name": "ipython",
    "version": 3
   },
   "file_extension": ".py",
   "mimetype": "text/x-python",
   "name": "python",
   "nbconvert_exporter": "python",
   "pygments_lexer": "ipython3",
   "version": "3.9.12"
  }
 },
 "nbformat": 4,
 "nbformat_minor": 4
}
